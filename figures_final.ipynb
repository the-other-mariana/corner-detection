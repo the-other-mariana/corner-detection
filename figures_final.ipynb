{
  "nbformat": 4,
  "nbformat_minor": 0,
  "metadata": {
    "colab": {
      "name": "figures-final.ipynb",
      "provenance": [],
      "collapsed_sections": []
    },
    "kernelspec": {
      "name": "python3",
      "display_name": "Python 3"
    }
  },
  "cells": [
    {
      "cell_type": "code",
      "metadata": {
        "id": "ly3WykHWy-6N"
      },
      "source": [
        "import cv2\n",
        "import math\n",
        "from itertools import combinations\n",
        "from itertools import permutations\n",
        "import matplotlib as mpl\n",
        "import matplotlib.pyplot as plt\n",
        "import numpy as np\n",
        "from google.colab import files"
      ],
      "execution_count": null,
      "outputs": []
    },
    {
      "cell_type": "code",
      "metadata": {
        "id": "PXIaltHQzFPN",
        "colab": {
          "resources": {
            "http://localhost:8080/nbextensions/google.colab/files.js": {
              "data": "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",
              "ok": true,
              "headers": [
                [
                  "content-type",
                  "application/javascript"
                ]
              ],
              "status": 200,
              "status_text": ""
            }
          },
          "base_uri": "https://localhost:8080/",
          "height": 74
        },
        "outputId": "80b46d6d-4ca5-407c-a830-734b93367564"
      },
      "source": [
        "uploaded = files.upload()"
      ],
      "execution_count": null,
      "outputs": [
        {
          "output_type": "display_data",
          "data": {
            "text/html": [
              "\n",
              "     <input type=\"file\" id=\"files-97affff9-449f-457e-8a5d-e75838949f74\" name=\"files[]\" multiple disabled />\n",
              "     <output id=\"result-97affff9-449f-457e-8a5d-e75838949f74\">\n",
              "      Upload widget is only available when the cell has been executed in the\n",
              "      current browser session. Please rerun this cell to enable.\n",
              "      </output>\n",
              "      <script src=\"/nbextensions/google.colab/files.js\"></script> "
            ],
            "text/plain": [
              "<IPython.core.display.HTML object>"
            ]
          },
          "metadata": {
            "tags": []
          }
        },
        {
          "output_type": "stream",
          "text": [
            "Saving figure4.png to figure4.png\n"
          ],
          "name": "stdout"
        }
      ]
    },
    {
      "cell_type": "code",
      "metadata": {
        "id": "ehOY8M7fzJcD",
        "colab": {
          "base_uri": "https://localhost:8080/",
          "height": 240
        },
        "outputId": "3ed23797-a131-4eeb-aa1a-37a9695f2d97"
      },
      "source": [
        "images = [\"figuras.png\", \"figures2.png\", \"figure3.png\", \"figure4.png\"]\n",
        "img = cv2.imread(images[0], 0);\n",
        "img2 = cv2.imread(images[0], 0);\n",
        "\n",
        "img = cv2.medianBlur(img,5)\n",
        "cimg = cv2.cvtColor(img,cv2.COLOR_GRAY2BGR)\n",
        "cimg2 = cv2.cvtColor(img,cv2.COLOR_GRAY2BGR)\n",
        "edges = cv2.Canny(img,1,100)\n",
        "\n",
        "edges = cv2.dilate(edges, None, iterations=3)\n",
        "plt.imshow(edges, \"gray\");\n",
        "plt.show()"
      ],
      "execution_count": null,
      "outputs": [
        {
          "output_type": "display_data",
          "data": {
            "image/png": "[encoded data removed]",
            "text/plain": [
              "<Figure size 432x288 with 1 Axes>"
            ]
          },
          "metadata": {
            "tags": []
          }
        }
      ]
    },
    {
      "cell_type": "code",
      "metadata": {
        "id": "eGOh--w1zMHr",
        "colab": {
          "base_uri": "https://localhost:8080/",
          "height": 257
        },
        "outputId": "5b20e150-0bb4-4f79-d6b5-56ed73f090cd"
      },
      "source": [
        "# DETECT LINES\n",
        "minLineLength = 500 # lines shorter than this are rejected\n",
        "maxLineGap = 50\n",
        "\n",
        "lines = cv2.HoughLinesP(edges,1,np.pi/180,img.shape[0],minLineLength,maxLineGap)\n",
        "if lines is not None:\n",
        "  for line in lines:\n",
        "    for x1,y1,x2,y2 in line:\n",
        "      cv2.line(cimg,(x1,y1),(x2,y2),(255,0,0),5)\n",
        "      \n",
        "# DETECT CIRCLES\n",
        "circles = cv2.HoughCircles(img2,cv2.HOUGH_GRADIENT,1,100,param1=100,param2=35,minRadius=0,maxRadius=0)\n",
        "if circles is not None:\n",
        "  circles = np.uint16(np.around(circles))\n",
        "  for i in circles[0,:]:\n",
        "      cv2.circle(cimg,(i[0],i[1]),i[2],(0,255,0),10)\n",
        "    \n",
        "# DETECT CORNERS\n",
        "gray = np.float32(img2) # img2 is without blur\n",
        "#gray = cv2.equalizeHist(img2)\n",
        "dst = cv2.cornerHarris(gray,2,3, 0.04)\n",
        "dst = cv2.dilate(dst,None, iterations=5)\n",
        "cimg[dst>0.01*dst.max()]=[0,0,255]\n",
        "corners = []\n",
        "plt.imshow(cimg) "
      ],
      "execution_count": null,
      "outputs": [
        {
          "output_type": "execute_result",
          "data": {
            "text/plain": [
              "<matplotlib.image.AxesImage at 0x7fec531d6a90>"
            ]
          },
          "metadata": {
            "tags": []
          },
          "execution_count": 34
        },
        {
          "output_type": "display_data",
          "data": {
            "image/png": "[encoded data removed]",
            "text/plain": [
              "<Figure size 432x288 with 1 Axes>"
            ]
          },
          "metadata": {
            "tags": []
          }
        }
      ]
    },
    {
      "cell_type": "code",
      "metadata": {
        "id": "bs2ok3nZ4Vxe",
        "colab": {
          "base_uri": "https://localhost:8080/",
          "height": 257
        },
        "outputId": "95e1522f-e9cf-45f2-89a5-5d76baaed768"
      },
      "source": [
        "maxim = dst.max()\n",
        "corners = []\n",
        "\n",
        "for i in range(cimg.shape[0]):\n",
        "  for j in range(cimg.shape[1]):\n",
        "    if cimg[i][j][2] == 255 and cimg[i][j][0] == 0 and cimg[i][j][1] == 0:\n",
        "      corners.append(tuple([j, i]))\n",
        "\n",
        "reduced = []\n",
        "for i in range(len(corners)):\n",
        "  x = corners[i][0]\n",
        "  y = corners[i][1]\n",
        "  if i == 0:\n",
        "    reduced.append(tuple([x, y]))\n",
        "    continue\n",
        "  else:\n",
        "    should = True\n",
        "    for c in corners:\n",
        "      if x == c[0] and y == c[1]:\n",
        "        break\n",
        "      if abs(x - c[0]) < 5 and abs(y - c[1]) < 5:\n",
        "        should = False\n",
        "        break\n",
        "    if should == True:\n",
        "      reduced.append(tuple([x, y]))\n",
        "      \n",
        "#print(len(reduced))\n",
        "#print(reduced)\n",
        "\n",
        "for i in range(len(corners)):\n",
        "  cv2.circle(cimg2, corners[i], 2, (0,0,255), 10)\n",
        "  \n",
        "plt.imshow(cimg2)"
      ],
      "execution_count": null,
      "outputs": [
        {
          "output_type": "execute_result",
          "data": {
            "text/plain": [
              "<matplotlib.image.AxesImage at 0x7fec531b3e80>"
            ]
          },
          "metadata": {
            "tags": []
          },
          "execution_count": 35
        },
        {
          "output_type": "display_data",
          "data": {
            "image/png": "[encoded data removed]",
            "text/plain": [
              "<Figure size 432x288 with 1 Axes>"
            ]
          },
          "metadata": {
            "tags": []
          }
        }
      ]
    },
    {
      "cell_type": "code",
      "metadata": {
        "id": "0y0wPcAwV6M9",
        "colab": {
          "base_uri": "https://localhost:8080/",
          "height": 274
        },
        "outputId": "45960ac4-cc0c-4bc8-c107-d247e7892f52"
      },
      "source": [
        "squares = []\n",
        "real_sq = []\n",
        "\n",
        "triangles = []\n",
        "real_triangles = []\n",
        "\n",
        "pentagons = []\n",
        "real_pent = []\n",
        "\n",
        "eps_triangle = 3\n",
        "eps = 3\n",
        "\n",
        "def SQD(p1, p2):\n",
        "  return (p1[0] - p2[0])**2 + (p1[1] - p2[1])**2\n",
        "\n",
        "# COMBINATIONS 4,3,5\n",
        "for comb in combinations(reduced, 4):\n",
        "  temp = list(comb)\n",
        "  squares.append(temp)\n",
        "#print(squares)\n",
        "\n",
        "for comb in combinations(reduced, 3):\n",
        "  temp = list(comb)\n",
        "  triangles.append(temp)\n",
        "#print(triangles)\n",
        "\n",
        "for comb in combinations(reduced, 5):\n",
        "  temp = list(comb)\n",
        "  pentagons.append(temp)\n",
        "#print(pentagons)\n",
        "\n",
        "pool = []\n",
        "\n",
        "# DECIDE SQUARES\n",
        "for p in squares:\n",
        "  d2 = SQD(p[0], p[1])\n",
        "  d3 = SQD(p[0], p[2])\n",
        "  d4 = SQD(p[0], p[3])\n",
        "  \n",
        "  d2 = int(d2)\n",
        "  d3 = int(d3)\n",
        "  d4 = int(d4)\n",
        "  \n",
        "  if (abs(d2 - d3) <= eps and abs(2 * d2 - d4) <= eps):\n",
        "    dist = SQD(p[1], p[3])\n",
        "    dist34 = SQD(p[2], p[3])\n",
        "    if(abs(dist - dist34) <= eps and abs(dist - d2) <= eps):\n",
        "      real_sq.append(p)\n",
        "      for i in range(4):\n",
        "        pool.append(p[i])   \n",
        "      continue\n",
        "      \n",
        "  if (abs(d3 - d4) <= eps and abs(2 * d3 - d2) <= eps):\n",
        "    dist = SQD(p[1], p[2])\n",
        "    dist34 = SQD(p[1], p[3])\n",
        "    if(abs(dist - dist34) <= eps and abs(dist - d3) <= eps):\n",
        "      real_sq.append(p)\n",
        "      for i in range(4):\n",
        "        pool.append(p[i])\n",
        "      continue\n",
        "      \n",
        "  if (abs(d2 - d4) <= eps and abs(2 * d2 - d3) <= eps):\n",
        "    dist = SQD(p[1], p[2])\n",
        "    dist34 = SQD(p[2], p[3])\n",
        "    if(abs(dist - dist34) <= eps and abs(dist - d2) <= eps):\n",
        "      real_sq.append(p)\n",
        "      for i in range(4):\n",
        "        pool.append(p[i])\n",
        "      continue\n",
        "      \n",
        "  centroid = [0.0, 0.0]\n",
        "  for i in range(2):\n",
        "    for j in range(4):\n",
        "      centroid[i] += p[j][i]\n",
        "  \n",
        "  centroid[0] = centroid[0] / 4.0\n",
        "  centroid[1] = centroid[1] / 4.0\n",
        "  c = tuple(centroid)\n",
        "  \n",
        "  dc1 = math.sqrt(SQD(c, p[0]))\n",
        "  dc2 = math.sqrt(SQD(c, p[1]))\n",
        "  dc3 = math.sqrt(SQD(c, p[2]))\n",
        "  dc4 = math.sqrt(SQD(c, p[3]))\n",
        "  \n",
        "  if abs(dc1 - dc2) <= eps and abs(dc1 - dc4) <= eps and abs(dc1 - dc3) <= eps and abs(math.sqrt(d2) - math.sqrt(d3)) <= eps:\n",
        "    print(math.sqrt(d2) - math.sqrt(d3))\n",
        "    real_sq.append(p)\n",
        "    for i in range(4):\n",
        "      pool.append(p[i])\n",
        "    continue\n",
        "\n",
        "for p in real_sq:\n",
        "  if pool.count(p[0]) > 1  or pool.count(p[1]) > 1 or pool.count(p[2]) > 1 or pool.count(p[3]) > 1:\n",
        "    continue\n",
        "  cv2.line(cimg,(p[0][0],p[0][1]),(p[1][0],p[1][1]),(0,0,0),10)\n",
        "  cv2.line(cimg,(p[1][0],p[1][1]),(p[3][0],p[3][1]),(0,0,0),10)\n",
        "  cv2.line(cimg,(p[3][0],p[3][1]),(p[2][0],p[2][1]),(0,0,0),10)\n",
        "  cv2.line(cimg,(p[2][0],p[2][1]),(p[0][0],p[0][1]),(0,0,0),10)\n",
        "  \n",
        "# DECIDE PENTAGONS\n",
        "for p in pentagons:\n",
        "  centroid = [0.0, 0.0]\n",
        "  for i in range(2):\n",
        "    for j in range(5):\n",
        "      centroid[i] += p[j][i]\n",
        "  \n",
        "  centroid[0] = centroid[0] / 5.0\n",
        "  centroid[1] = centroid[1] / 5.0\n",
        "  c = tuple(centroid)\n",
        "  \n",
        "  dc1 = math.sqrt(SQD(c, p[0]))\n",
        "  dc2 = math.sqrt(SQD(c, p[1]))\n",
        "  dc3 = math.sqrt(SQD(c, p[2]))\n",
        "  dc4 = math.sqrt(SQD(c, p[3]))\n",
        "  dc5 = math.sqrt(SQD(c, p[4]))\n",
        "  \n",
        "  if abs(dc1 - dc2) <= eps and abs(dc1 - dc4) <= eps and abs(dc1 - dc3) <= eps and abs(dc1 - dc5)<= eps:\n",
        "    real_pent.append(p)\n",
        "    for i in range(5):\n",
        "      pool.append(p[i])\n",
        "    continue\n",
        "    \n",
        "for p in real_pent:\n",
        "  cv2.line(cimg,(p[0][0],p[0][1]),(p[1][0],p[1][1]),(0,255,255),10)\n",
        "  cv2.line(cimg,(p[1][0],p[1][1]),(p[3][0],p[3][1]),(0,255,255),10)\n",
        "  cv2.line(cimg,(p[3][0],p[3][1]),(p[4][0],p[4][1]),(0,255,255),10)\n",
        "  cv2.line(cimg,(p[4][0],p[4][1]),(p[2][0],p[2][1]),(0,255,255),10)\n",
        "  cv2.line(cimg,(p[2][0],p[2][1]),(p[0][0],p[0][1]),(0,255,255),10)\n",
        "  \n",
        "# DECIDE TRIANGLES\n",
        "for p in triangles:\n",
        "  d2 = SQD(p[0], p[1])\n",
        "  d3 = SQD(p[0], p[2])\n",
        "  d4 = SQD(p[1], p[2])\n",
        "  \n",
        "  d2 = math.sqrt(d2)\n",
        "  d3 = math.sqrt(d3)\n",
        "  d4 = math.sqrt(d4)\n",
        "  \n",
        "  if(abs(d2 - d3) <= eps_triangle) and (abs(d4 - d3) <= eps_triangle):\n",
        "    real_triangles.append(p)\n",
        "    for i in range(3):\n",
        "      pool.append(p[i])\n",
        "    \n",
        "#print(real_triangles)\n",
        "#print(pool)\n",
        "\n",
        "for p in real_triangles:\n",
        "  if pool.count(p[0]) > 1  or pool.count(p[1]) > 1 or pool.count(p[2]) > 1:\n",
        "    continue\n",
        "  cv2.line(cimg,(p[0][0],p[0][1]),(p[1][0],p[1][1]),(255,255,0),10)\n",
        "  cv2.line(cimg,(p[1][0],p[1][1]),(p[2][0],p[2][1]),(255,255,0),10)\n",
        "  cv2.line(cimg,(p[2][0],p[2][1]),(p[0][0],p[0][1]),(255,255,0),10)\n",
        "  \n",
        "#print(real_sq)\n",
        "plt.imshow(cimg)"
      ],
      "execution_count": null,
      "outputs": [
        {
          "output_type": "stream",
          "text": [
            "0.9773517738934743\n"
          ],
          "name": "stdout"
        },
        {
          "output_type": "execute_result",
          "data": {
            "text/plain": [
              "<matplotlib.image.AxesImage at 0x7fec53119d68>"
            ]
          },
          "metadata": {
            "tags": []
          },
          "execution_count": 36
        },
        {
          "output_type": "display_data",
          "data": {
            "image/png": "[encoded data removed]",
            "text/plain": [
              "<Figure size 432x288 with 1 Axes>"
            ]
          },
          "metadata": {
            "tags": []
          }
        }
      ]
    },
    {
      "cell_type": "code",
      "metadata": {
        "id": "5W4yHWzqTHmV"
      },
      "source": [
        ""
      ],
      "execution_count": null,
      "outputs": []
    }
  ]
}